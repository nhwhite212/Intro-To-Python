{
 "cells": [
  {
   "cell_type": "markdown",
   "metadata": {},
   "source": [
    "### Welcome to the Dealing with Data Class - Professor White\n",
    "This class will be taught using jupyter notebooks. \n",
    "These notebooks allow you to mix python code, documentation text and the output together to create a \"notebook file\" that can be run interactively, and includes the output of code directly into the notebook. The notebooks can be shared with others, so they can recreate or change the results by rerunning the notebooks.\n",
    "\n",
    "You should become familiar with the basics of these notebooks as soon as possible. Most of your assignments will be done\n",
    "using notebooks, and we will be using the notebooks in every class. We will be\n",
    "doing exercises together in class, so we can immediately see the results as well as \n",
    "have students ask questions about why the code does what it does. The notebooks will run on\n",
    "Google Colab, (http://colab.research.google.com)\n",
    "\n",
    "In addition, the code snippets can be used as part of homework assignments as well as final projects.\n",
    "\n"
   ]
  },
  {
   "cell_type": "code",
   "execution_count": null,
   "metadata": {},
   "outputs": [],
   "source": []
  }
 ],
 "metadata": {
  "kernelspec": {
   "display_name": "Python 3",
   "language": "python",
   "name": "python3"
  },
  "language_info": {
   "codemirror_mode": {
    "name": "ipython",
    "version": 2
   },
   "file_extension": ".py",
   "mimetype": "text/x-python",
   "name": "python",
   "nbconvert_exporter": "python",
   "pygments_lexer": "ipython2",
   "version": "2.7.5"
  }
 },
 "nbformat": 4,
 "nbformat_minor": 2
}
