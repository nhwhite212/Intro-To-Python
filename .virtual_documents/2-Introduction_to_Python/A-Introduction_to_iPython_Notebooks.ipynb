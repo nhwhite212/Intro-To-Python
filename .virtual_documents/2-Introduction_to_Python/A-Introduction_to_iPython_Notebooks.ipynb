





print("Hello World")








# your code here





# A comment
#
# We use comments to write down things that we want to rememember
# or instructions for other users that will read/use our code

# Anything after the # is ignored by python.

print("I could have written code like this.")  # the comment after is ignored


# You can also use a comment to "disable" or comment out a piece of code:
# print("This won't run.")

print("This will run.")





print("Hi Poppop!''





# This is a single line comment
# This a second single line comment

print("trying out some comments")
"""This code is used to print 
a message of your choice. Notice that 
this message that is included in the triple double
quotes will not execute."""

print("python ftw")

































