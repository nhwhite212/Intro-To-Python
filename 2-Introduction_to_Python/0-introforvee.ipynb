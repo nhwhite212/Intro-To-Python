{
 "cells": [
  {
   "cell_type": "raw",
   "id": "dc65b760-e6e9-4f01-aa26-77ed85302fe1",
   "metadata": {},
   "source": [
    "#### Python Lessons for Vee Procopio (and maybe Henry)\n",
    "\n",
    "This is a set of notebooks that serve as an introduction for Python.  It is from the Dealing with Data class taught at the Stern School at NYU by her grandfather, Norman White. Initiallly, it will only cover the use of jupyter notebooks and python, but it can be extended with other data science tools,like databases, web crawling, graphics, estimation, data ana\n"
   ]
  },
  {
   "cell_type": "markdown",
   "id": "3505e7fa-5a7c-4177-94d3-e23a7ce035ea",
   "metadata": {},
   "source": [
    "Jupyter Notebooks are an easy way to present material, since the user can see the results of their efforts immediately. Each notebook consists of \"cells\", a cell can just be text to display (like this cell), or can be python code. The user \"executes\" a cell by hitting the shift key and the enter key (i.e. shift-enter). The code in a cell can be easily changed, by just editting it, and then hitting shift-enter again. Variables can be created in one cell and referenced in a later cell, allowing the cells to be building blocks for larger systems."
   ]
  },
  {
   "cell_type": "markdown",
   "id": "13618423-cdf3-438c-ba8c-6547a69e6177",
   "metadata": {},
   "source": [
    "However, before we can learn python, we need to know how to use notebooks. The next lesson, 0-Intro provides a quick intro to notebooks. You can click on it now to run it."
   ]
  },
  {
   "cell_type": "code",
   "execution_count": null,
   "id": "536c8d18-df76-44ed-9f2a-d43bda29a4aa",
   "metadata": {},
   "outputs": [],
   "source": []
  }
 ],
 "metadata": {
  "kernelspec": {
   "display_name": "Python 3 (ipykernel)",
   "language": "python",
   "name": "python3"
  },
  "language_info": {
   "codemirror_mode": {
    "name": "ipython",
    "version": 3
   },
   "file_extension": ".py",
   "mimetype": "text/x-python",
   "name": "python",
   "nbconvert_exporter": "python",
   "pygments_lexer": "ipython3",
   "version": "3.11.8"
  }
 },
 "nbformat": 4,
 "nbformat_minor": 5
}
