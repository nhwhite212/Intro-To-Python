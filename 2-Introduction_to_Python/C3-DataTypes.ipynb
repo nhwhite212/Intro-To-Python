{
 "cells": [
  {
   "cell_type": "markdown",
   "metadata": {
    "id": "lXzmf8_dMkhu"
   },
   "source": [
    "## Data Types"
   ]
  },
  {
   "cell_type": "markdown",
   "metadata": {
    "id": "4eLoOyTtMkhz"
   },
   "source": [
    "Notice in the examples below, the different operations result in different types of outcomes."
   ]
  },
  {
   "cell_type": "code",
   "execution_count": null,
   "metadata": {
    "id": "sGx2TDKeMkh0"
   },
   "outputs": [],
   "source": [
    "print(1 + 1) # this is an integer"
   ]
  },
  {
   "cell_type": "code",
   "execution_count": null,
   "metadata": {
    "id": "aU2GRIZeMkh3"
   },
   "outputs": [],
   "source": [
    "print(1.0 + 1) # this is an integer added to a decimal/floating point"
   ]
  },
  {
   "cell_type": "code",
   "execution_count": null,
   "metadata": {
    "id": "9XhEH6SWMkh4"
   },
   "outputs": [],
   "source": [
    "print(\"1\" + \"1\") # this a string/text "
   ]
  },
  {
   "cell_type": "code",
   "execution_count": null,
   "metadata": {
    "id": "pE1c9GEKMkh6"
   },
   "outputs": [],
   "source": [
    "print(100 * 2)"
   ]
  },
  {
   "cell_type": "code",
   "execution_count": null,
   "metadata": {
    "id": "r5sQCFPlMkh7"
   },
   "outputs": [],
   "source": [
    "print(100 * \"2\")"
   ]
  },
  {
   "cell_type": "markdown",
   "metadata": {
    "id": "GXuKC-mpMkh8"
   },
   "source": [
    "We will learn more about the different types of variables later, but for now, remember that you can use the `type`  funcyion to determine the data type of an expression:"
   ]
  },
  {
   "cell_type": "code",
   "execution_count": null,
   "metadata": {
    "id": "jDUBG4pvMkh-"
   },
   "outputs": [],
   "source": [
    "type(1)"
   ]
  },
  {
   "cell_type": "code",
   "execution_count": null,
   "metadata": {
    "id": "aMWN9FbwMkh_"
   },
   "outputs": [],
   "source": [
    "type(3.14)"
   ]
  },
  {
   "cell_type": "code",
   "execution_count": null,
   "metadata": {
    "id": "lRl0clr_MkiA"
   },
   "outputs": [],
   "source": [
    "type(\"Hello\")"
   ]
  },
  {
   "cell_type": "code",
   "execution_count": null,
   "metadata": {
    "id": "QQtIg8lDMkiC"
   },
   "outputs": [],
   "source": [
    "type(\"1\")"
   ]
  },
  {
   "cell_type": "code",
   "execution_count": null,
   "metadata": {
    "id": "XrCiJ4qtMkiC"
   },
   "outputs": [],
   "source": [
    "type(\"3.14\")"
   ]
  },
  {
   "cell_type": "code",
   "execution_count": null,
   "metadata": {
    "id": "JngugYpDMkiD"
   },
   "outputs": [],
   "source": [
    "type(1+1)"
   ]
  },
  {
   "cell_type": "code",
   "execution_count": null,
   "metadata": {
    "id": "oKoQfmC-MkiE"
   },
   "outputs": [],
   "source": [
    "type(\"1\" + \"1\")"
   ]
  },
  {
   "cell_type": "code",
   "execution_count": null,
   "metadata": {
    "id": "j2KWeYxKMkiF"
   },
   "outputs": [],
   "source": [
    "type(10 * \"2\")"
   ]
  },
  {
   "cell_type": "markdown",
   "metadata": {
    "id": "RQ8E4tz0MkiG"
   },
   "source": [
    "**Lesson**: Notice the different data types above: `str` (string), `int` (integer), `float` (decimal numbers). One thing hat you will notice is that the outcome of the various operators (`+`, `*`, etc) can be different based on the data types involved."
   ]
  },
  {
   "cell_type": "markdown",
   "metadata": {
    "collapsed": true,
    "id": "fTqjO5seMkiG",
    "jupyter": {
     "outputs_hidden": true
    }
   },
   "source": [
    "#### Exercise \n",
    "\n",
    "What will the following program print out? Figure it our _before_ running the program."
   ]
  },
  {
   "cell_type": "code",
   "execution_count": null,
   "metadata": {
    "id": "q_5kFXYmMkiG"
   },
   "outputs": [],
   "source": [
    "x = 41\n",
    "x = x + 1\n",
    "print(x)"
   ]
  },
  {
   "cell_type": "code",
   "execution_count": null,
   "metadata": {
    "id": "MntH3rmTMkiG"
   },
   "outputs": [],
   "source": [
    "x = \"41\"\n",
    "x = x + \"1\"\n",
    "print(x)"
   ]
  },
  {
   "cell_type": "code",
   "execution_count": null,
   "metadata": {},
   "outputs": [],
   "source": []
  },
  {
   "cell_type": "code",
   "execution_count": null,
   "metadata": {},
   "outputs": [],
   "source": []
  }
 ],
 "metadata": {
  "colab": {
   "name": "C3-DataTypes.ipynb",
   "provenance": []
  },
  "kernelspec": {
   "display_name": "Python 3 (ipykernel)",
   "language": "python",
   "name": "python3"
  },
  "language_info": {
   "codemirror_mode": {
    "name": "ipython",
    "version": 3
   },
   "file_extension": ".py",
   "mimetype": "text/x-python",
   "name": "python",
   "nbconvert_exporter": "python",
   "pygments_lexer": "ipython3",
   "version": "3.11.8"
  }
 },
 "nbformat": 4,
 "nbformat_minor": 4
}
