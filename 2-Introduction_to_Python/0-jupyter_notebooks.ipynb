{
 "cells": [
  {
   "cell_type": "markdown",
   "metadata": {},
   "source": [
    "### Welcome to the Python Class - Professor Poppop\n",
    "This class will be taught using jupyter notebooks. \n",
    "These notebooks allow you to mix python code, documentation text and the output together to create a \"notebook file\" that can be run interactively, and includes the output of code directly into the notebook. The notebooks can be shared with others, so they can recreate or change the results by rerunning the notebooks.\n",
    "\n",
    "You should become familiar with the basics of these notebooks as soon as possible. Most of your assignments will be done\n",
    "using notebooks, and we will be using the notebooks in every class. We will be\n",
    "doing exercises together in class, so we can immediately see the results as well as  ask questions about why the code does what it does. The notebooks will run on your mac.\n",
    "\n",
    "In addition, the code snippets can be used as part of homework assignments as well as for a final project.\n",
    "\n",
    "\n"
   ]
  },
  {
   "cell_type": "markdown",
   "metadata": {},
   "source": [
    "Now click on the next notebook, A-Introduction_to_Python_Notebooks.ipynb\n"
   ]
  }
 ],
 "metadata": {
  "kernelspec": {
   "display_name": "Python 3 (ipykernel)",
   "language": "python",
   "name": "python3"
  },
  "language_info": {
   "codemirror_mode": {
    "name": "ipython",
    "version": 3
   },
   "file_extension": ".py",
   "mimetype": "text/x-python",
   "name": "python",
   "nbconvert_exporter": "python",
   "pygments_lexer": "ipython3",
   "version": "3.11.8"
  }
 },
 "nbformat": 4,
 "nbformat_minor": 4
}
