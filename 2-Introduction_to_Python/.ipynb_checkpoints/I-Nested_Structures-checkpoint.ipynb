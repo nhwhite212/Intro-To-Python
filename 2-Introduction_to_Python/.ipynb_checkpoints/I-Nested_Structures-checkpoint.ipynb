{
 "cells": [
  {
   "cell_type": "markdown",
   "metadata": {},
   "source": [
    "### Combining (Nesting) Data Structures:\n",
    "\n",
    "So far, we have examined complex data structures (lists, sets, dictionaries) that containes \"scalar\" values (integers, strings, boolean, etc). \n",
    "\n",
    "In reality, we can store any type of value in these data structures.\n",
    "\n",
    "Consider the case of the following dictionary:\n"
   ]
  },
  {
   "cell_type": "code",
   "execution_count": null,
   "metadata": {},
   "outputs": [],
   "source": [
    "phones = {\n",
    "    \"Norm\": \"212-998-0842\",\n",
    "    \"Maria\": \"656-233-5555\",\n",
    "    \"John\": \"693-232-5776\",\n",
    "    \"Jake\": \"415-794-3423\"\n",
    "}"
   ]
  },
  {
   "cell_type": "markdown",
   "metadata": {},
   "source": [
    "Let's say that we want to have more than one phone assinged to Norm. It is not possible to simply assign the value to a new number, as this will just replace the current phone. For example:"
   ]
  },
  {
   "cell_type": "code",
   "execution_count": null,
   "metadata": {},
   "outputs": [],
   "source": [
    "phones[\"Norm\"] = \"201-910-1661\"\n",
    "phones"
   ]
  },
  {
   "cell_type": "markdown",
   "metadata": {},
   "source": [
    "What we can do instead is to have **a list** as value for the \"Norm\" key:"
   ]
  },
  {
   "cell_type": "code",
   "execution_count": null,
   "metadata": {},
   "outputs": [],
   "source": [
    "phones = {\n",
    "    \"Norm\": [\"212-998-0842\", \"201-910-1661\"],\n",
    "    \"Maria\": [\"656-233-5555\"],\n",
    "    \"John\": [\"693-232-5776\"],\n",
    "    \"Jake\": [\"415-794-3423\"]\n",
    "}"
   ]
  },
  {
   "cell_type": "code",
   "execution_count": null,
   "metadata": {},
   "outputs": [],
   "source": [
    "phones[\"Norm\"]"
   ]
  },
  {
   "cell_type": "markdown",
   "metadata": {},
   "source": [
    "And then we can add and remove phones for each person:"
   ]
  },
  {
   "cell_type": "code",
   "execution_count": null,
   "metadata": {},
   "outputs": [],
   "source": [
    "phones[\"Norm\"].append(\"800-929-2923\")\n",
    "phones[\"Jake\"].append(\"343-342-5455\")\n",
    "phones[\"Jake\"].append(\"343-656-8766\")\n",
    "phones[\"Jake\"].pop(0) # Remove the first phone for Jake\n",
    "phones"
   ]
  },
  {
   "cell_type": "markdown",
   "metadata": {},
   "source": [
    "Alternatively, we can use a *dictionary* as a value for each key:"
   ]
  },
  {
   "cell_type": "code",
   "execution_count": null,
   "metadata": {},
   "outputs": [],
   "source": [
    "phones = {\n",
    "    \"Norm\": {\"Work\":\"212-998-0842\", \"Cell\": \"201-910-1661\"},\n",
    "    \"Maria\": {\"Work\":\"656-233-5555\"},\n",
    "    \"John\": {\"Cell\":\"693-232-5776\"},\n",
    "    \"Jake\": {\"Home\":\"415-794-3423\"}\n",
    "}\n",
    "phones"
   ]
  },
  {
   "cell_type": "markdown",
   "metadata": {},
   "source": [
    "#### Accessing data within complex structures\n",
    "\n",
    "To access the elements within complex structures, we just \"stack\" bracket/indexing operators:"
   ]
  },
  {
   "cell_type": "code",
   "execution_count": null,
   "metadata": {},
   "outputs": [],
   "source": [
    "phones = {'Jake': ['343-342-5455', '343-656-8766'],\n",
    " 'John': ['693-232-5776'],\n",
    " 'Maria': ['656-233-5555'],\n",
    " 'Norm': ['212-998-0842', '201-910-1661', '800-929-2923']}"
   ]
  },
  {
   "cell_type": "code",
   "execution_count": null,
   "metadata": {},
   "outputs": [],
   "source": [
    "phones['Norm']"
   ]
  },
  {
   "cell_type": "code",
   "execution_count": null,
   "metadata": {},
   "outputs": [],
   "source": [
    "phones.get('Norm')"
   ]
  },
  {
   "cell_type": "code",
   "execution_count": null,
   "metadata": {},
   "outputs": [],
   "source": [
    "phones['Norm'][1]"
   ]
  },
  {
   "cell_type": "code",
   "execution_count": null,
   "metadata": {},
   "outputs": [],
   "source": [
    "phones.get('Norm')[1]"
   ]
  },
  {
   "cell_type": "markdown",
   "metadata": {},
   "source": [
    "Similarly, when we have a dictionary that contains dictionaries:"
   ]
  },
  {
   "cell_type": "code",
   "execution_count": null,
   "metadata": {},
   "outputs": [],
   "source": [
    "phones = {\n",
    "    \"Norm\": {\"Work\":\"212-998-0842\", \"Cell\": \"201-910-1661\"},\n",
    "    \"Maria\": {\"Work\":\"656-233-5555\"},\n",
    "    \"John\": {\"Cell\":\"693-232-5776\"},\n",
    "    \"Jake\": {\"Home\":\"415-794-3423\"}\n",
    "}"
   ]
  },
  {
   "cell_type": "code",
   "execution_count": null,
   "metadata": {},
   "outputs": [],
   "source": [
    "phones['Norm']['Cell']"
   ]
  },
  {
   "cell_type": "markdown",
   "metadata": {},
   "source": [
    "Or when we have a list of dictionaries: notice the [] surround the list of dictionaries"
   ]
  },
  {
   "cell_type": "code",
   "execution_count": null,
   "metadata": {},
   "outputs": [],
   "source": [
    "citibike_stations = [\n",
    "    {'station_id': 72,  'capacity': 39, 'coords': {'lon': -73.9939, 'lat': 40.7673}, 'name': 'W 52 St & 11 Ave',   },\n",
    "    {'station_id': 79,  'capacity': 33, 'coords': {'lon': -74.0067, 'lat': 40.7191}, 'name': 'Franklin St & W Broadway'},\n",
    "    {'station_id': 82,  'capacity': 27, 'coords': {'lon': -74.0002, 'lat': 40.7673}, 'name': 'St James Pl & Pearl St'},\n",
    "    {'station_id': 83,  'capacity': 62, 'coords': {'lon': -73.9763, 'lat': 40.6838}, 'name': 'Atlantic Ave & Fort Greene Pl'},\n",
    "    {'station_id': 116, 'capacity': 39, 'coords': {'lon': -74.0015, 'lat': 40.7418}, 'name': 'W 17 St & 8 Ave'}\n",
    "]"
   ]
  },
  {
   "cell_type": "code",
   "execution_count": null,
   "metadata": {},
   "outputs": [],
   "source": [
    "citibike_stations[0]['name']"
   ]
  },
  {
   "cell_type": "code",
   "execution_count": null,
   "metadata": {},
   "outputs": [],
   "source": [
    "citibike_stations[0]['coords']"
   ]
  },
  {
   "cell_type": "code",
   "execution_count": null,
   "metadata": {},
   "outputs": [],
   "source": [
    "citibike_stations[0]['coords']['lat']"
   ]
  },
  {
   "cell_type": "markdown",
   "metadata": {},
   "source": [
    "### Exercise\n",
    "\n",
    "You are given the following data structure.\n",
    "\n",
    "`data = {\n",
    "    \"Panos\": {\n",
    "        \"Job\":\"Professor\", \n",
    "        \"YOB\": \"1976\", \n",
    "        \"Children\": [\"Gregory\", \"Anna\"]\n",
    "        }, \n",
    "    \"Joe\": {\n",
    "        \"Job\":\"Data Scientist\", \n",
    "        \"YOB\": \"1981\"\n",
    "        }\n",
    "    }`\n",
    "\n",
    "You need to write code that\n",
    "\n",
    "* Prints the job of Joe\n",
    "* Prints the year of birth of Panos; prints the age of Panos\n",
    "* Prints the children of Panos\n",
    "* Prints the second child of Panos\n",
    "* Prints the number of people _entries_ in the data. (Notice that it is much harder to find all the people in the data, eg the children)\n",
    "* Checks if Maria is in the data\n",
    "* Checks if Panos has children. Would you code work when the list of children is empty?\n",
    "* Checks if Joe has children. How can you handle the lack of the corresponding key?"
   ]
  },
  {
   "cell_type": "code",
   "execution_count": null,
   "metadata": {},
   "outputs": [],
   "source": [
    "# your code here\n",
    "data = {\"Panos\": {\"Job\":\"Professor\", \n",
    "                  \"YOB\": \"1976\", \n",
    "                  \"Children\": [\"Gregory\", \"Anna\"]}, \n",
    "        \"Joe\": {\"Job\":\"Data Scientist\", \n",
    "                \"YOB\": \"1981\"}}"
   ]
  },
  {
   "cell_type": "code",
   "execution_count": null,
   "metadata": {},
   "outputs": [],
   "source": [
    "# Prints the job of Joe\n"
   ]
  },
  {
   "cell_type": "code",
   "execution_count": null,
   "metadata": {},
   "outputs": [],
   "source": [
    "# Prints the year of birth of Panos\n"
   ]
  },
  {
   "cell_type": "code",
   "execution_count": null,
   "metadata": {},
   "outputs": [],
   "source": [
    "# Prints the children of Panos\n"
   ]
  },
  {
   "cell_type": "code",
   "execution_count": null,
   "metadata": {},
   "outputs": [],
   "source": [
    "# Prints the second child of Panos\n"
   ]
  },
  {
   "cell_type": "code",
   "execution_count": null,
   "metadata": {},
   "outputs": [],
   "source": [
    "# Checks if Maria is in the data\n"
   ]
  },
  {
   "cell_type": "code",
   "execution_count": null,
   "metadata": {},
   "outputs": [],
   "source": [
    "# Checks if Anna is in the data\n",
    "# Notice that the in command *will not* look into the values\n"
   ]
  },
  {
   "cell_type": "code",
   "execution_count": null,
   "metadata": {},
   "outputs": [],
   "source": [
    "# Checks if Panos has children"
   ]
  },
  {
   "cell_type": "code",
   "execution_count": null,
   "metadata": {},
   "outputs": [],
   "source": [
    "# Checks if Joe has children"
   ]
  },
  {
   "cell_type": "markdown",
   "metadata": {},
   "source": [
    "\n",
    "#### Next we learn how to make decisions and control the flow of our python program\n"
   ]
  },
  {
   "cell_type": "code",
   "execution_count": null,
   "metadata": {},
   "outputs": [],
   "source": []
  }
 ],
 "metadata": {
  "kernelspec": {
   "display_name": "Python 3 (ipykernel)",
   "language": "python",
   "name": "python3"
  },
  "language_info": {
   "codemirror_mode": {
    "name": "ipython",
    "version": 3
   },
   "file_extension": ".py",
   "mimetype": "text/x-python",
   "name": "python",
   "nbconvert_exporter": "python",
   "pygments_lexer": "ipython3",
   "version": "3.11.8"
  }
 },
 "nbformat": 4,
 "nbformat_minor": 4
}
