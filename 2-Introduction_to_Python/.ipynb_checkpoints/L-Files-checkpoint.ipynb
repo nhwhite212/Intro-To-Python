{
 "cells": [
  {
   "cell_type": "markdown",
   "metadata": {
    "colab_type": "text",
    "id": "view-in-github"
   },
   "source": [
    "<a href=\"https://colab.research.google.com/github/nhwhite212/DealingwithDataSpring2021/blob/master/2-Introduction_to_Python/L-Files.ipynb\" target=\"_parent\"><img src=\"https://colab.research.google.com/assets/colab-badge.svg\" alt=\"Open In Colab\"/></a>"
   ]
  },
  {
   "cell_type": "markdown",
   "metadata": {
    "id": "FCExbNx6eBXs"
   },
   "source": [
    "\n",
    "Files and Printing\n",
    "------------------\n",
    "\n",
    "** See also Examples 15, 16, and 17 from Learn Python the Hard Way**\n",
    "\n",
    "You'll often be reading data from a file, or writing the output of your python scripts back into a file. Python makes this very easy. You need to open a file in the appropriate mode, using the `open` function, then you can read or write to accomplish your task. The `open` function takes two arguments, the name of the file, and the mode. The mode is a single letter string that specifies if you're going to be reading from a file, writing to a file, or appending to the end of an existing file. The function returns a file object that performs the various tasks you'll be performing: `a_file = open(filename, mode)`. The modes are:\n",
    "\n",
    "+ `'r'`: open a file for reading\n",
    "+ `'w'`: open a file for writing. Caution: this will overwrite any previously existing file\n",
    "+ `'a'`: append. Write to the end of a file. \n",
    "\n",
    "When reading, you typically want to iterate through the lines in a file using a for loop, as above. Some other common methods for dealing with files are: \n",
    "\n",
    "+ `file.read()`: read the entire contents of a file into a string\n",
    "+ `file.write(some_string)`: writes to the file, note this doesn't automatically include any new lines. Also note that sometimes writes are buffered- python will wait until you have several writes pending, and perform them all at once\n",
    "+ `file.flush()`: write out any buffered writes\n",
    "+ `file.close()`: close the open file. This will free up some computer resources occupied by keeping a file open.\n",
    "\n",
    "Here is an example using files:"
   ]
  },
  {
   "cell_type": "markdown",
   "metadata": {
    "id": "FcLaHjS0eBX4"
   },
   "source": [
    "#### Writing a file to disk"
   ]
  },
  {
   "cell_type": "code",
   "execution_count": null,
   "metadata": {
    "id": "QXVq6nB_eBX6"
   },
   "outputs": [],
   "source": [
    "# Create the file temp.txt, and get it ready for writing\n",
    "f = open(\"temp.txt\", \"w\")\n",
    "f.write(\"This is my first file! The end!\\n\")\n",
    "f.write(\"Oh wait, I wanted to say something else.\")\n",
    "f.close()"
   ]
  },
  {
   "cell_type": "code",
   "execution_count": null,
   "metadata": {
    "id": "MPYbXMY8eBX7"
   },
   "outputs": [],
   "source": [
    "# Let's check that we did everything as expected\n",
    "!cat temp.txt"
   ]
  },
  {
   "cell_type": "code",
   "execution_count": null,
   "metadata": {
    "id": "DXUcUqvdeBX8"
   },
   "outputs": [],
   "source": [
    "# Create a file numbers.txt and write the numbers from 0 to 24 there\n",
    "f = open(\"numbers.txt\", \"w\")\n",
    "for num in range(25):\n",
    "    f.write(str(num)+'\\n')\n",
    "f.close()"
   ]
  },
  {
   "cell_type": "code",
   "execution_count": null,
   "metadata": {
    "id": "pVZ9GaVDeBX9"
   },
   "outputs": [],
   "source": [
    "# Let's check that we did everything as expected\n",
    "# cat is the linux command that 'cat'entates files and send them to the output.\n",
    "!cat numbers.txt"
   ]
  },
  {
   "cell_type": "markdown",
   "metadata": {
    "id": "qRkvUEuDeBX-"
   },
   "source": [
    "#### Reading a file from disk"
   ]
  },
  {
   "cell_type": "code",
   "execution_count": null,
   "metadata": {
    "id": "7N2KRk6deBX-"
   },
   "outputs": [],
   "source": [
    "# We now open the file for reading\n",
    "f = open(\"temp.txt\", \"r\")\n",
    "# And we read the full content of the file in memory, as a long string\n",
    "content = f.read()\n",
    "f.close()"
   ]
  },
  {
   "cell_type": "code",
   "execution_count": null,
   "metadata": {
    "id": "FvQxr8wheBX_"
   },
   "outputs": [],
   "source": [
    "content"
   ]
  },
  {
   "cell_type": "code",
   "execution_count": null,
   "metadata": {
    "id": "1MdX-vsQeBYA"
   },
   "outputs": [],
   "source": [
    "# Read the file in the cell above, the content is in f2_content\n",
    "\n",
    "# Split the content of the file using the newline character \\n\n",
    "lines = content.split(\"\\n\")\n",
    "\n",
    "# Iterate through the line variable (it is a list of strings)\n",
    "# and then print the length of each line\n",
    "for line in lines:\n",
    "    print(line, \" ===> \", len(line))"
   ]
  },
  {
   "cell_type": "code",
   "execution_count": null,
   "metadata": {
    "id": "WLGsxnSEeBYB"
   },
   "outputs": [],
   "source": [
    "# We now open the file for reading\n",
    "f = open(\"numbers.txt\", \"r\")\n",
    "# And we read the full content of the file in memory, as a string\n",
    "content = f.read()\n",
    "f.close()\n",
    "content"
   ]
  },
  {
   "cell_type": "markdown",
   "metadata": {
    "id": "4vAMYYuuetYF"
   },
   "source": [
    "### Note the \"\\n\"  in the line above. That is the \"newline\" or end of line character."
   ]
  },
  {
   "cell_type": "markdown",
   "metadata": {
    "id": "2dHbZf-OeBYC"
   },
   "source": [
    "Once we read the file, we have the lines in a big string. Let's process that big string a little bit: We want to \"split\" the string of characters on the  newline character and create a list of the lines in the numbers.txt file."
   ]
  },
  {
   "cell_type": "code",
   "execution_count": null,
   "metadata": {
    "id": "w3TRuWC1eBYC"
   },
   "outputs": [],
   "source": [
    "lines = content.split(\"\\n\") # we get back a list of strings\n",
    "print(lines)"
   ]
  },
  {
   "cell_type": "code",
   "execution_count": null,
   "metadata": {
    "id": "sam2H7bUeBYD"
   },
   "outputs": [],
   "source": [
    "# Next,  we can convert the list of strings into list of integers, using a list comprehension\n",
    "# we have the conditional to avoid trying to parse the string '' that \n",
    "# is at the end of the list. \n",
    "numbers = [int(line) for line in lines if len(line)>0]\n",
    "print(numbers)"
   ]
  },
  {
   "cell_type": "code",
   "execution_count": null,
   "metadata": {
    "id": "pIoxoVtieBYE"
   },
   "outputs": [],
   "source": [
    "# Let's clean up\n",
    "!rm temp.txt\n",
    "!rm numbers.txt"
   ]
  },
  {
   "cell_type": "markdown",
   "metadata": {
    "id": "4rtFy4FHeBYE"
   },
   "source": [
    "####  Exercise 1\n",
    "\n",
    "* Write a function that reads a file and returns its content as a list of strings (one string per line). Read the file with filename `restaurant-names.txt`. First we will retrieve a copy of the file. We use the unix command tool \"curl\" which retrieves a file from the web. We can run unix/macos commands from a notebook cell by puttinmg an ! mark in front of them. "
   ]
  },
  {
   "cell_type": "code",
   "execution_count": 21,
   "metadata": {
    "id": "2Bx2erUcPGjf"
   },
   "outputs": [
    {
     "name": "stdout",
     "output_type": "stream",
     "text": [
      "#1 GARDEN CHINESE\n",
      "#1 ME. NICK'S\n",
      "#1 SABOR LATINO RESTAURANT\n",
      "$1.25 PIZZA\n",
      "''U'' LIKE CHINESE RESTAURANT\n",
      "''W'' CAFE\n",
      "'WICHCRAFT\n",
      "(LEWIS DRUG STORE) LOCANDA VINI E OLII\n",
      "(LIBRARY)  FOUR & TWENTY BLACKBIRDS\n",
      "(PUBLIC FARE) 81ST STREET AND CENTRAL PARK WEST (DELACORTE THEATRE)\n"
     ]
    }
   ],
   "source": [
    "# use curl to retrieve a copy of restaurant-names.txt in our folder\n",
    "!curl -k -s https://pages.stern.nyu.edu/~nhw1/Jupyterhubnotebooks/data/restaurant-names.txt >restaurant-names.txt\n",
    "\n",
    "!head restaurant-names.txt   # this will list the first few lines of a file"
   ]
  },
  {
   "cell_type": "code",
   "execution_count": 22,
   "metadata": {
    "id": "6ylHMtaDP1La"
   },
   "outputs": [],
   "source": [
    "# Your code here"
   ]
  },
  {
   "cell_type": "markdown",
   "metadata": {
    "id": "3OSgyeGEeBYG"
   },
   "source": [
    "####  Exercise 2\n",
    "\n",
    "* Write a function that reads the n-th column of a CSV file and returns its contents. (Reuse the function that you wrote above.) Then reads the file `baseball.csv` and return the content of the 5th column (`team`).\n",
    "First we download the file with curl"
   ]
  },
  {
   "cell_type": "code",
   "execution_count": 23,
   "metadata": {
    "id": "Iy8VNTgMeBYH"
   },
   "outputs": [
    {
     "name": "stdout",
     "output_type": "stream",
     "text": [
      "id,player,year,stint,team,lg,g,ab,r,h,X2b,X3b,hr,rbi,sb,cs,bb,so,ibb,hbp,sh,sf,gidp\n",
      "88641,womacto01,2006,2,CHN,NL,19,50,6,14,1,0,1,2.0,1.0,1.0,4,4.0,0.0,0.0,3.0,0.0,0.0\n",
      "88643,schilcu01,2006,1,BOS,AL,31,2,0,1,0,0,0,0.0,0.0,0.0,0,1.0,0.0,0.0,0.0,0.0,0.0\n",
      "88645,myersmi01,2006,1,NYA,AL,62,0,0,0,0,0,0,0.0,0.0,0.0,0,0.0,0.0,0.0,0.0,0.0,0.0\n",
      "88649,helliri01,2006,1,MIL,NL,20,3,0,0,0,0,0,0.0,0.0,0.0,0,2.0,0.0,0.0,0.0,0.0,0.0\n",
      "88650,johnsra05,2006,1,NYA,AL,33,6,0,1,0,0,0,0.0,0.0,0.0,0,4.0,0.0,0.0,0.0,0.0,0.0\n",
      "88652,finlest01,2006,1,SFN,NL,139,426,66,105,21,12,6,40.0,7.0,0.0,46,55.0,2.0,2.0,3.0,4.0,6.0\n",
      "88653,gonzalu01,2006,1,ARI,NL,153,586,93,159,52,2,15,73.0,0.0,1.0,69,58.0,10.0,7.0,0.0,6.0,14.0\n",
      "88662,seleaa01,2006,1,LAN,NL,28,26,2,5,1,0,0,0.0,0.0,0.0,1,7.0,0.0,0.0,6.0,0.0,1.0\n",
      "89177,francju01,2007,2,ATL,NL,15,40,1,10,3,0,0,8.0,0.0,0.0,4,10.0,1.0,0.0,0.0,1.0,1.0\n"
     ]
    }
   ],
   "source": [
    "\n",
    "!curl -s -k  https://pages.stern.nyu.edu/~nhw1/Jupyterhubnotebooks/data/baseball.csv >baseball.csv\n",
    "!head baseball.csv"
   ]
  },
  {
   "cell_type": "code",
   "execution_count": null,
   "metadata": {},
   "outputs": [],
   "source": [
    "# Your code here"
   ]
  },
  {
   "cell_type": "code",
   "execution_count": null,
   "metadata": {},
   "outputs": [],
   "source": []
  },
  {
   "cell_type": "code",
   "execution_count": null,
   "metadata": {},
   "outputs": [],
   "source": []
  },
  {
   "cell_type": "markdown",
   "metadata": {
    "id": "agz2LU9UeBYH"
   },
   "source": [
    "#### Exercise 3 \n",
    "\n",
    "The command below will create a file called `phonetest.txt`. Write code that:\n",
    "* Reads the file `phonetest.txt`\n",
    "* Write a function that takes as input a string, and removes any non-digit characters\n",
    "* Print out the \"clean\" string, without any non-digit characters"
   ]
  },
  {
   "cell_type": "code",
   "execution_count": null,
   "metadata": {
    "id": "leqZ-voIeBYI"
   },
   "outputs": [],
   "source": [
    "%%file phonetest.txt\n",
    "679-397-5255\n",
    "2126660921\n",
    "212-998-0902\n",
    "888-888-2222\n",
    "800-555-1211\n",
    "800 555 1212\n",
    "800.555.1213\n",
    "(800) 555-1214\n",
    "1-800-555-1215\n",
    "1(800)555-1216\n",
    "800-555-1212-1234\n",
    "800-555-1212x1234\n",
    "800-555-1212 ext. 1234\n",
    "work 1-(800) 555.1212 #1234"
   ]
  },
  {
   "cell_type": "code",
   "execution_count": null,
   "metadata": {
    "id": "H_HT1OmceBYJ"
   },
   "outputs": [],
   "source": [
    "# your code here"
   ]
  },
  {
   "cell_type": "code",
   "execution_count": null,
   "metadata": {
    "id": "_Q1SL8ejeBYJ"
   },
   "outputs": [],
   "source": []
  },
  {
   "cell_type": "code",
   "execution_count": null,
   "metadata": {
    "id": "CEntaxyoeBYJ"
   },
   "outputs": [],
   "source": []
  },
  {
   "cell_type": "code",
   "execution_count": null,
   "metadata": {
    "id": "zcycmeKEeBYK"
   },
   "outputs": [],
   "source": []
  },
  {
   "cell_type": "code",
   "execution_count": null,
   "metadata": {
    "id": "__S5VufXeBYK"
   },
   "outputs": [],
   "source": []
  },
  {
   "cell_type": "code",
   "execution_count": null,
   "metadata": {
    "id": "QFa0NUTneBYL"
   },
   "outputs": [],
   "source": []
  },
  {
   "cell_type": "markdown",
   "metadata": {
    "id": "dO9KbXkSeBYL"
   },
   "source": [
    "#### Solution for exercise 4 (with a lot of comments)"
   ]
  },
  {
   "cell_type": "code",
   "execution_count": null,
   "metadata": {
    "id": "FqHajCIqeBYL"
   },
   "outputs": [],
   "source": [
    "# this function takes as input a phone (string variable)\n",
    "# and prints only its digits\n",
    "def clean(phone):\n",
    "    # We initialize the result variable to be empty. \n",
    "    # We will append to this variable the digit characters \n",
    "    result = \"\"\n",
    "    # This is a set of digits (as **strings**) that will\n",
    "    # allow us to filter the characters\n",
    "    digits = {\"0\",\"1\",\"2\",\"3\",\"4\",\"5\",\"6\",\"7\",\"8\",\"9\"}\n",
    "    # We iterate over all the characters in the string \"phone\"\n",
    "    # which is a parameter of the function clean\n",
    "    for c in phone:\n",
    "        # We check if the character c is a digit\n",
    "        if c in digits:\n",
    "            # if it is, we append it to the result\n",
    "            result = result + c\n",
    "    # once we are done we return a string variable with the result\n",
    "    return result \n",
    "\n",
    "# This is an alternative, one-line solution that uses a list \n",
    "# comprehension to create the list of acceptable characters, \n",
    "# and then uses the join command to concatenate all the \n",
    "# characters in the list into a string. Notice that we use \n",
    "# the empty string \"\" as the connector\n",
    "def clean_oneline(phone):\n",
    "    digits = {\"0\",\"1\",\"2\",\"3\",\"4\",\"5\",\"6\",\"7\",\"8\",\"9\"}\n",
    "    return \"\".join([c for c in phone if c in digits])\n",
    "\n",
    "# your code here\n",
    "# We open the file\n",
    "f = open(\"phonetest.txt\", \"r\")\n",
    "# We read the content using the f.read() command\n",
    "content = f.read()\n",
    "# Close the file\n",
    "f.close()\n",
    "# We split the file into lines\n",
    "lines = content.split(\"\\n\")\n",
    "# We iterate over the lines, and we clean each one of them\n",
    "for line in lines:\n",
    "    print(line, \"==>\", clean(line))"
   ]
  },
  {
   "cell_type": "code",
   "execution_count": null,
   "metadata": {
    "id": "43Bi9n3IeBYL"
   },
   "outputs": [],
   "source": [
    "# Let's clean up\n",
    "!rm phonetest.txt"
   ]
  }
 ],
 "metadata": {
  "colab": {
   "include_colab_link": true,
   "name": "Copy of L-Files.ipynb",
   "provenance": []
  },
  "kernelspec": {
   "display_name": "Python 3 (ipykernel)",
   "language": "python",
   "name": "python3"
  },
  "language_info": {
   "codemirror_mode": {
    "name": "ipython",
    "version": 3
   },
   "file_extension": ".py",
   "mimetype": "text/x-python",
   "name": "python",
   "nbconvert_exporter": "python",
   "pygments_lexer": "ipython3",
   "version": "3.11.8"
  }
 },
 "nbformat": 4,
 "nbformat_minor": 4
}
