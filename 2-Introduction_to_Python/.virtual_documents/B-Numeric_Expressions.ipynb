








print("addition:")
print(1 + 1)
print(1.5 + 1)


print("subtraction:")
print(1 - 1)
print(1 - 1.0)


print("negation:")
print(-5)


print("multiplication:")
print(3 * 3)  # integer
print(3 * 3.0)  # floating point


print("division:")
print(4 / 2)
print(5 / 2)


print("integer division:")
print(4 // 2)
print(5 // 2)


print("modulo:")  # modulo is a fancy term for remainder of a division
print(4 % 2)
print(5 % 2)
print(5.5 % 2)
print(75 % 4)
print(10 % 3)


print("power:")
print(10**3)
print(2**5)








# tip calculated on the pre-tax amount


# tip calculated on the after-tax amount





print("The total cost of the meal, with tip on the pre-tax amount is:")
print(50 + 50 * 8.875 / 100 + 50 * 20 / 100)


print("The total cost of the meal, with tip on the post-tax amount is:")
print(50 + 50 * 8.875 / 100 + (50 + 50 * 8.875 / 100) * 20 / 100)






































print("The daily return is:")
print((560 - 550) / 550)


# If we want to show percentages,
# We can modify our code and
# add a multiplication with 100 in front:
print("The daily return is:")
print(100 * (560 - 550) / 550)








# your code here





























print("The height in centimeters is:")
print(5 * 30.48 + 9 * 2.54)








# your code here



































print("The value of the deposit will be:")
print(10000 * (1 + 3 / 100)**5)








# your code here






































print("180 cm is")
print(180 // 30.48)
print("feet and ")
print(180 % 30.48 / 2.54)
print("inches")





# let’s see how we can print the message in one line
print("180 cm is", 180 // 30.48, "feet and ", 180 % 30.48 / 2.54, "inches")





# Let's use int() function to make the output look a bit nicer.
print("180 cm is", int(180 / 30.48), "feet and", int(180 % 30.48 / 2.54), "inches")





# Let's use the functions int() and round()
print("180 cm is", int(180 / 30.48), "feet and", round(180 % 30.48 / 2.54, 1), "inches")






