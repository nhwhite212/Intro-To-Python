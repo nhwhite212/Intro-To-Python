





# your code here





# your code here





# your code here





# your code here











price_mon = 550
price_tue = 560
daily_return = 100*(price_tue-price_mon)/price_mon
print("The daily return is")
print(daily_return)


price_mon = 550
price_tue = 560
return = 100*(price_tue-price_mon)/price_mon
print("The daily return is")
print(return)





# So, let's take a look at our code from last time:
print("180 cm is", int(180//30.48), "feet and", round(180%30.48 / 2.54, 1) , "inches")


# We will now start introducing variables
centimeters = 180
feet = int(centimeters / 30.48)
inches = int(centimeters % 30.48 / 2.54)
print(centimeters, "cm is", feet, "ft and", inches, "inches")


# Now let's introduce more variables to eliminate the "magic numbers" 30.48 and 2.54
cm_per_foot = 30.48
cm_per_in = 2.54
# And now let's modify our code from above
centimeters = 180
feet = int(centimeters / cm_per_foot)
inches = int(centimeters % cm_per_foot / cm_per_in)
print(centimeters, "cm is", feet, "ft and", inches, "inches")

# And if we want to use round instead of int:
inches = round(centimeters % cm_per_foot / cm_per_in,1)
print(centimeters, "cm is", feet, "ft and", inches, "inches")






v = 5 # miles per hour
Ta = 32 # air temperature in F
Twc = 35.74 + 0.6215 * Ta - 35.75 * v**0.16 + 0.4275 * Ta * v**0.16
print("The windchil index (feels-like) is:", int(Twc))





principal = 10000
rate = 0.03
years = 10


interest = rate * principal
payment = principal / years + interest
print("Payment at the end of year 1")
print(payment)


remaining_principal = principal - principal / years
interest = rate * remaining_principal
payment = principal / years + interest
print("payment at the end of year 2")
print(payment)
