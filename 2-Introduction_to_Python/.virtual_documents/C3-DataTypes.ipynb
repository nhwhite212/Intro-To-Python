





print(1 + 1) # this is an integer


print(1.0 + 1) # this is an integer added to a decimal/floating point


print("1" + "1") # this a string/text 


print(100 * 2)


print(100 * "2")





type(1)


type(3.14)


type("Hello")


type("1")


type("3.14")


type(1+1)


type("1" + "1")


type(10 * "2")








x = 41
x = x + 1
print(x)


x = "41"
x = x + "1"
print(x)






