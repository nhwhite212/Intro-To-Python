





print("The cost of the meal will be:")
print(100 + 100 * 8.875/100 + 100 * 20/100)





print("The cost of the meal will be:")
print(75 + 75 * 8.875/100 + 75 * 20/100)





food = 75
tax = 8.875/100
tip = 20/100
cost = food + food * tax + food * tip
print("The cost of the meal will be:")
print(cost)





n = 17
print(n)


pi = 3.1415926535897931
print(pi)


message = 'I love Python...'
print(message)
print(message)
print(message)
print(message)


males = 7
females = 10
fraction = males/(males+females)
print("Percentage of men:")
print(100*fraction)








food = 75
tax = 8.875/100
tip = 20/100
cost = food + food * tax + food * tip
print("The cost of the meal will be:")
print(cost)





food = 100





print("The cost of the meal will be:")
print(cost)





cost = food + food * tax + food * tip
print("The cost of the meal will be:")
print(cost)











# A small example to start
base_salary = 150000
expected_bonus = 0.25
equity = 400000
years_vesting = 4


# Base scenario
yearly_value = base_salary + expected_bonus*base_salary + equity/years_vesting
print("The yearly value of this offer is", yearly_value)





# Same computation as above, but in three steps
# We start by adding the base_salary in the yearly_value
yearly_value = base_salary 
# then we add the expected bonus
yearly_value = yearly_value + expected_bonus*base_salary 
# and then we add the value of equity
yearly_value = yearly_value + equity/years_vesting 
print("The yearly value of this offer is", yearly_value)





# Same computation as above, but using the += shorthand
yearly_value = base_salary 
yearly_value += expected_bonus*base_salary 
yearly_value +=  equity/years_vesting
print("The yearly value of this offer is", yearly_value)





# Crash and burn scenario. Equity is worth nothing at the end
# your code here


# Optimistic scenario. The company goes up a lot, and equity is worth 10x more
# your code here





s = 150000 # salary
b = 0.25 # bonus percentage
e = 400000 # value of promised equity
y = 4 # years for vesting equity
v = s + b*s + e/y # compute the yearly value
print("The yearly value of this offer is", v)





s = 150000
b = 0.25
e = 400000
y = 4
v = s + b*s + e/y
print("The yearly value of this offer is", v)





whiskey = 150000
beer = 0.25
gin = 400000
vodka = 4
rum = whiskey + beer*whiskey + gin/vodka
print("The yearly value of this offer is", rum)











# 76trombones is illegal because it begins with a number. 
# REMOVE THE COMMENT CHARACTER IN THE NEXT LINE TO ATTEMPT
# 76trombones = 'big parade'


# more@ is illegal because it contains an illegal character
# REMOVE THE COMMENT CHARACTER IN THE NEXT LINE TO ATTEMPT
# more@ = 1000000


# You cannot have spaces in variable names
# REMOVE THE COMMENT CHARACTER IN THE NEXT LINE TO ATTEMPT
# daily diff = 10.10


# Using underscore is fine though
daily_diff = 10.10


# What’s wrong with class? It turns out that class is one of Python’s keywords. 
# REMOVE THE COMMENT CHARACTER IN THE NEXT LINE TO ATTEMPT
# class = 'Introduction to Programming'














# Remove the comment characters to try
# current_salary = 125000
# raise = 35000
# next_salary = current_salary + raise





# print = 100 
# print("What happened?")


# Let's fix the mess...
# del print









