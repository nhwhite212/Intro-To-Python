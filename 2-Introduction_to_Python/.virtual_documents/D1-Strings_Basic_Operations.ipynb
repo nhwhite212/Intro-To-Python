





str_1 = "Hello World!"
print(str_1)


str_1 = 'Hello World!'
print(str_1)





str_2 = """
(CNN)AirAsia Flight QZ8501 climbed rapidly before it crashed, 
a top Indonesian official said Tuesday, according to The Jakarta Post.

Then the plane stalled, Transportation Minister Ignasius Jonan said 
at a parliamentary hearing, according to the AFP and Reuters news agencies.

"The plane, during the last minutes, went up faster than normal 
speed ... after then, it stalled. That is according to the data 
from the radar," Jonan said, according to the news agencies.
"""
print(str_2)


str_3 = '''
If we want to have multiple lines in the string
then we can use triple quotes: This is a multiline
string!
'''
print(str_3)
    








# note that + concatenates strings
str1 = "hello"
str2 = "world"
message = str1 + " " + str2 + "!" 
print(message)





x = 41
x = x + 1
print(x)


x = '41'
x = x + '1'
print(x)





name = 'Norm'
phone = '212-998-0842'
# your code here (2 lines)
message = "Call " + name + " at " + phone
print(message)






word = "Python is the word. And on and on and on...." 
print(len(word))


print(word)
print("The length of the text above is ", len(word), "characters")





news = '''
Technology stocks are suffering one of their worst beatings in years, 
as investors reassess a sector that has been considered the growth 
engine of the global economy but now faces the prospect of greater 
regulatory scrutiny. The tech-heavy Nasdaq Composite Index 
fell 2.9% Tuesday. That selloff carried over to the broader market, 
where the S&P 500 index slumped 1.7%.  The Dow Jones Industrial 
Average fell 1.4%, giving back some of Monday’s 2.8% rebound.
'''


print(len(news))


print(news)
print("The length of the text above is", len(news), "characters")





print(news.lower())


print(news.upper())


# Notice that the original 'news' variable did not change
print(news)


# If we want to keep the changed-case version, we need to store it in a variable
l_news = news.lower()
print(l_news)





news.lower






