


word = 'Python'


word[0]  # character in position 0


word[1]


word[5]  # character in position 5





word[-1]  # last character


word[-2]  # second-last character


word[-6]








word[0:2]  # characters from position 0 (included) to 2 (excluded)


word[2:5]  # characters from position 2 (included) to 5 (excluded)


word[2:]  # characters from position 2 (included) to the end


word[:3]  # characters from beginning (position 0) to position 3 (excluded)


word[-3:] # last three characters


word[-3:-1] # penultimate two characters


word[1:-1]





univ = 'New York University'


univ[:3] #first three characters


univ[4:8] # start at the fifth character and end at the eighth


univ[-10:] #last ten characters of the string


univ[1:-3]












